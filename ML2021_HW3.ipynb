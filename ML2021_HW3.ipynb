{
  "nbformat": 4,
  "nbformat_minor": 0,
  "metadata": {
    "colab": {
      "provenance": [],
      "gpuType": "T4"
    },
    "kernelspec": {
      "name": "python3",
      "display_name": "Python 3"
    },
    "language_info": {
      "name": "python"
    },
    "accelerator": "GPU"
  },
  "cells": [
    {
      "cell_type": "markdown",
      "source": [
        "# **Homework 3 - Convolutional Neural Network**"
      ],
      "metadata": {
        "id": "0gtXaq1RP4TC"
      }
    },
    {
      "cell_type": "markdown",
      "source": [
        "# **Result**\n",
        "scores (pass medium baseline):\n",
        "\n",
        "![image.png](data:image/png;base64,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)"
      ],
      "metadata": {
        "id": "VVlpQqrxRX5C"
      }
    },
    {
      "cell_type": "markdown",
      "source": [
        "medium baseline:\n",
        "\n",
        "![image.png](data:image/png;base64,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)"
      ],
      "metadata": {
        "id": "79wb-qABRrPX"
      }
    },
    {
      "cell_type": "markdown",
      "source": [
        "# **Download Data**"
      ],
      "metadata": {
        "id": "lTFCVF56Sas-"
      }
    },
    {
      "cell_type": "code",
      "execution_count": null,
      "metadata": {
        "id": "2SvRffQdXpuX"
      },
      "outputs": [],
      "source": [
        "!gdown --id '1awF7pZ9Dz7X1jn1_QAiKN-_v56veCEKy' --output food-11.zip\n",
        "!unzip -q food-11.zip"
      ]
    },
    {
      "cell_type": "markdown",
      "source": [
        "# **Import Some Packages**"
      ],
      "metadata": {
        "id": "97TXjpl0Shiz"
      }
    },
    {
      "cell_type": "code",
      "source": [
        "import numpy as np\n",
        "import torch\n",
        "import torch.nn as nn\n",
        "import torchvision\n",
        "import torchvision.transforms as transforms\n",
        "from PIL import Image\n",
        "\n",
        "from torch.utils.data import ConcatDataset, DataLoader, Subset, Dataset\n",
        "from torchvision.datasets import DatasetFolder\n",
        "\n",
        "from tqdm.auto import tqdm"
      ],
      "metadata": {
        "id": "MrH7qd8ea1eG"
      },
      "execution_count": 2,
      "outputs": []
    },
    {
      "cell_type": "code",
      "source": [
        "train_tfm = transforms.Compose([\n",
        "\n",
        "    transforms.Resize((128, 128)),\n",
        "    transforms.RandomRotation(15),\n",
        "    transforms.ToTensor(),\n",
        "    #transforms.Normalize(\n",
        "    #  mean=[0.485, 0.456, 0.406],\n",
        "\t\t#  std=[0.229, 0.224, 0.225]\n",
        "    #),\n",
        "])\n",
        "\n",
        "test_tfm = transforms.Compose([\n",
        "    transforms.Resize((128, 128)),\n",
        "    transforms.ToTensor(),\n",
        "])"
      ],
      "metadata": {
        "id": "vukz4yQqa3yo"
      },
      "execution_count": 3,
      "outputs": []
    },
    {
      "cell_type": "markdown",
      "source": [
        "# **Dataset and DataLoader**"
      ],
      "metadata": {
        "id": "eMczNLfCS8wk"
      }
    },
    {
      "cell_type": "code",
      "source": [
        "batch_size = 128\n",
        "\n",
        "train_set = DatasetFolder(\"food-11/training/labeled\", loader=lambda x: Image.open(x), extensions=\"jpg\", transform=train_tfm)\n",
        "valid_set = DatasetFolder(\"food-11/validation\", loader=lambda x: Image.open(x), extensions=\"jpg\", transform=test_tfm)\n",
        "unlabeled_set = DatasetFolder(\"food-11/training/unlabeled\", loader=lambda x: Image.open(x), extensions=\"jpg\", transform=train_tfm)\n",
        "test_set = DatasetFolder(\"food-11/testing\", loader=lambda x: Image.open(x), extensions=\"jpg\", transform=test_tfm)\n",
        "\n",
        "train_loader = DataLoader(train_set, batch_size=batch_size, shuffle=True, num_workers=2, pin_memory=True)\n",
        "valid_loader = DataLoader(valid_set, batch_size=batch_size, shuffle=True, num_workers=2, pin_memory=True)\n",
        "test_loader = DataLoader(test_set, batch_size=batch_size, shuffle=False)"
      ],
      "metadata": {
        "id": "GQZQ5MksbBHK"
      },
      "execution_count": 4,
      "outputs": []
    },
    {
      "cell_type": "markdown",
      "source": [
        "# **Create Model**"
      ],
      "metadata": {
        "id": "5CkvfXojS-98"
      }
    },
    {
      "cell_type": "code",
      "source": [
        "class Classifier(nn.Module):\n",
        "    def __init__(self):\n",
        "        super(Classifier, self).__init__()\n",
        "\n",
        "        self.cnn_layers = nn.Sequential(\n",
        "            nn.Conv2d(3, 64, 3, 1, 1),\n",
        "            nn.BatchNorm2d(64),\n",
        "            nn.ReLU(),\n",
        "            nn.MaxPool2d(2, 2, 0),\n",
        "            #nn.Dropout(0.2),\n",
        "\n",
        "            nn.Conv2d(64, 128, 3, 1, 1),\n",
        "            nn.BatchNorm2d(128),\n",
        "            nn.ReLU(),\n",
        "            nn.MaxPool2d(2, 2, 0),\n",
        "            nn.Dropout(0.2),\n",
        "\n",
        "            nn.Conv2d(128, 256, 3, 1, 1),\n",
        "            nn.BatchNorm2d(256),\n",
        "            nn.ReLU(),\n",
        "            nn.MaxPool2d(2, 2, 0),\n",
        "            nn.Dropout(0.2),\n",
        "\n",
        "            nn.Conv2d(256, 512, 3, 1, 1),\n",
        "            nn.BatchNorm2d(512),\n",
        "            nn.ReLU(),\n",
        "            nn.MaxPool2d(2, 2, 0),\n",
        "            nn.Dropout(0.2),\n",
        "        )\n",
        "        self.fc_layers = nn.Sequential(\n",
        "            nn.Linear(512 * 8 * 8, 256),\n",
        "            #nn.Dropout(0.2),\n",
        "            nn.ReLU(),\n",
        "            nn.Linear(256, 256),\n",
        "            #nn.Dropout(0.2),\n",
        "            nn.ReLU(),\n",
        "            nn.Linear(256, 11)\n",
        "        )\n",
        "\n",
        "        self.criterion = nn.CrossEntropyLoss()\n",
        "\n",
        "        #self.model = torchvision.models.resnet18(pretrained=False)\n",
        "\n",
        "    def forward(self, x):\n",
        "        #x = self.cnn_layers(x)\n",
        "\n",
        "        x = self.cnn_layers(x)\n",
        "\n",
        "        x = x.flatten(1)\n",
        "\n",
        "        x = self.fc_layers(x)\n",
        "        return x\n",
        "\n",
        "    def cal_loss(self, pred, target):\n",
        "\n",
        "      l2 = 0\n",
        "      for i in self.parameters():\n",
        "        l2 += torch.sum(torch.pow(i, 2))\n",
        "\n",
        "      loss = self.criterion(pred, target)\n",
        "\n",
        "      return loss + 0.01 * l2, loss"
      ],
      "metadata": {
        "id": "KPoBWrJ8bEHW"
      },
      "execution_count": 5,
      "outputs": []
    },
    {
      "cell_type": "code",
      "source": [
        "class PseudoDataset(Dataset):\n",
        "  def __init__(self, x, y):\n",
        "    self.x = x\n",
        "    self.y = y\n",
        "\n",
        "  def __len__(self):\n",
        "    return len(self.x)\n",
        "\n",
        "  def __getitem__(self, idx):\n",
        "    return self.x[idx], self.y[idx]\n",
        "\n",
        "def get_pseudo_labels(dataset, model, threshold=0.65):\n",
        "\n",
        "    device = \"cuda\" if torch.cuda.is_available() else \"cpu\"\n",
        "\n",
        "    data_loader = DataLoader(dataset, batch_size=batch_size, shuffle=False)\n",
        "\n",
        "    model.eval()\n",
        "\n",
        "    softmax = nn.Softmax(dim=-1)\n",
        "\n",
        "    images = []\n",
        "    labels = []\n",
        "\n",
        "    for batch in tqdm(data_loader):\n",
        "        img, _ = batch\n",
        "\n",
        "        with torch.no_grad():\n",
        "            logits = model(img.to(device))\n",
        "\n",
        "        probs = softmax(logits)\n",
        "\n",
        "        for i, prob in enumerate(probs):\n",
        "          if prob > threshold:\n",
        "            images.append(img[i])\n",
        "            labels.append(int(torch.argmax(prob)))\n",
        "\n",
        "    dataset = PseudoDataset(images, labels)\n",
        "    model.train()\n",
        "    return dataset"
      ],
      "metadata": {
        "id": "JM8n2LMbbKs_"
      },
      "execution_count": 6,
      "outputs": []
    },
    {
      "cell_type": "markdown",
      "source": [
        "# **Training**"
      ],
      "metadata": {
        "id": "qgosoKUuTmoG"
      }
    },
    {
      "cell_type": "code",
      "source": [
        "device = \"cuda\" if torch.cuda.is_available() else \"cpu\"\n",
        "\n",
        "model = Classifier().to(device)\n",
        "model.device = device\n",
        "\n",
        "criterion = nn.CrossEntropyLoss()\n",
        "\n",
        "optimizer = torch.optim.Adam(model.parameters(), lr=0.0003, weight_decay=1e-5)\n",
        "#optimizer = torch.optim.SGD(model.parameters(), lr=0.0003, momentum=0.9)\n",
        "\n",
        "n_epochs = 100\n",
        "\n",
        "do_semi = False\n",
        "\n",
        "for epoch in range(n_epochs):\n",
        "\n",
        "    if epoch == 0:\n",
        "      optimizer = torch.optim.Adam(model.parameters(), lr=0.0003, weight_decay=1e-5)\n",
        "    if epoch == 50:\n",
        "      optimizer = torch.optim.SGD(model.parameters(), lr=0.0003, momentum=0.9)\n",
        "\n",
        "    if do_semi and epoch > 25 and epoch % 5 == 0:\n",
        "        pseudo_set = get_pseudo_labels(unlabeled_set, model)\n",
        "        concat_dataset = ConcatDataset([train_set, pseudo_set])\n",
        "        train_loader = DataLoader(concat_dataset, batch_size=batch_size, shuffle=True)\n",
        "\n",
        "    model.train()\n",
        "    train_loss = []\n",
        "    train_accs = []\n",
        "\n",
        "    for batch in tqdm(train_loader):\n",
        "\n",
        "        imgs, labels = batch\n",
        "\n",
        "        logits = model(imgs.to(device))\n",
        "\n",
        "        l2_loss, loss = model.cal_loss(logits, labels.to(device))\n",
        "\n",
        "        optimizer.zero_grad()\n",
        "\n",
        "\n",
        "        l2_loss.backward()\n",
        "\n",
        "        grad_norm = nn.utils.clip_grad_norm_(model.parameters(), max_norm=10)\n",
        "\n",
        "        optimizer.step()\n",
        "\n",
        "        acc = (logits.argmax(dim=-1) == labels.to(device)).float().mean()\n",
        "\n",
        "        train_loss.append(loss.item())\n",
        "        train_accs.append(acc)\n",
        "\n",
        "    train_loss = sum(train_loss) / len(train_loss)\n",
        "    train_acc = sum(train_accs) / len(train_accs)\n",
        "\n",
        "    print(f\"[ Train | {epoch + 1:03d}/{n_epochs:03d} ] loss = {train_loss:.5f}, acc = {train_acc:.5f}\")\n",
        "\n",
        "    model.eval()\n",
        "\n",
        "\n",
        "    valid_loss = []\n",
        "    valid_accs = []\n",
        "\n",
        "    for batch in tqdm(valid_loader):\n",
        "\n",
        "\n",
        "        imgs, labels = batch\n",
        "\n",
        "        with torch.no_grad():\n",
        "          logits = model(imgs.to(device))\n",
        "\n",
        "        _, loss = model.cal_loss(logits, labels.to(device))\n",
        "\n",
        "        acc = (logits.argmax(dim=-1) == labels.to(device)).float().mean()\n",
        "\n",
        "        valid_loss.append(loss.item())\n",
        "        valid_accs.append(acc)\n",
        "\n",
        "    valid_loss = sum(valid_loss) / len(valid_loss)\n",
        "    valid_acc = sum(valid_accs) / len(valid_accs)\n",
        "\n",
        "    print(f\"[ Valid | {epoch + 1:03d}/{n_epochs:03d} ] loss = {valid_loss:.5f}, acc = {valid_acc:.5f}\")"
      ],
      "metadata": {
        "id": "58kYUuSHbMRr"
      },
      "execution_count": null,
      "outputs": []
    },
    {
      "cell_type": "markdown",
      "source": [
        "# **Testing**"
      ],
      "metadata": {
        "id": "2m7xE0f9ToUA"
      }
    },
    {
      "cell_type": "code",
      "source": [
        "model.eval()\n",
        "predictions = []\n",
        "\n",
        "for batch in tqdm(test_loader):\n",
        "    imgs, labels = batch\n",
        "\n",
        "    with torch.no_grad():\n",
        "        logits = model(imgs.to(device))\n",
        "\n",
        "    predictions.extend(logits.argmax(dim=-1).cpu().numpy().tolist())"
      ],
      "metadata": {
        "id": "hVGE1LBKcGHe"
      },
      "execution_count": null,
      "outputs": []
    },
    {
      "cell_type": "code",
      "source": [
        "with open(\"predict.csv\", \"w\") as f:\n",
        "\n",
        "    f.write(\"Id,Category\\n\")\n",
        "\n",
        "    for i, pred in enumerate(predictions):\n",
        "         f.write(f\"{i},{pred}\\n\")"
      ],
      "metadata": {
        "id": "aI88x27BcK7A"
      },
      "execution_count": 9,
      "outputs": []
    }
  ]
}